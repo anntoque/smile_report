{
 "cells": [
  {
   "cell_type": "markdown",
   "metadata": {},
   "source": [
    "# Firebase Storageから画像を取得\n",
    "firebase admin moduleがあるけど、Firebase Storageの実態はGoogle Cloud Storageなので、  \n",
    "storage moduleでも問題ない。\n",
    "※公式ドキュメントにない関数などがあるので、githubのコード見て使った方が良い\n",
    "https://github.com/GoogleCloudPlatform/google-cloud-python"
   ]
  },
  {
   "cell_type": "code",
   "execution_count": null,
   "metadata": {},
   "outputs": [],
   "source": [
    "from google.cloud import storage\n",
    "\n",
    "client = storage.Client()\n",
    "\n",
    "bucket = client.get_bucket('')\n",
    "list_blob = list(bucket.list_blobs())\n",
    "\n",
    "for index in range(len(list_blob)):\n",
    "    list_blob[index].download_to_filename('images/'+str(index)+'.png')"
   ]
  },
  {
   "cell_type": "markdown",
   "metadata": {},
   "source": [
    "# Microsoft Face APIを用いて画像解析\n",
    "無料版を使う場合はsleep関数を使わないとトランザクションの上限に引っかかるので注意"
   ]
  },
  {
   "cell_type": "code",
   "execution_count": null,
   "metadata": {},
   "outputs": [],
   "source": [
    "subscription_key = ''\n",
    "assert subscription_key"
   ]
  },
  {
   "cell_type": "code",
   "execution_count": null,
   "metadata": {},
   "outputs": [],
   "source": [
    "emotion_recognition_url = ''"
   ]
  },
  {
   "cell_type": "code",
   "execution_count": null,
   "metadata": {
    "scrolled": true
   },
   "outputs": [],
   "source": [
    "import requests\n",
    "import json\n",
    "import matplotlib.pyplot as plt\n",
    "from matplotlib.patches import Rectangle\n",
    "from io import BytesIO\n",
    "from PIL import Image\n",
    "import numpy as np\n",
    "import pandas as pd\n",
    "import time\n",
    "\n",
    "smile_scores = pd.DataFrame(index=[], columns=['png_no', 'smile_score'])\n",
    "\n",
    "for i in range(len(list_blob)):\n",
    "    image_path = './images/'+str(i)+'.png'\n",
    "    image_data = open(image_path, \"rb\").read()\n",
    "    \n",
    "    params = {\n",
    "    'returnFaceId': 'false',\n",
    "    'returnFaceLandmarks': 'false',\n",
    "    'returnFaceAttributes': 'age,gender,smile,glasses,emotion'\n",
    "    }\n",
    "    headers = {'Ocp-Apim-Subscription-Key' : subscription_key, 'Content-Type': 'application/octet-stream'}\n",
    "    \n",
    "    response = requests.post(emotion_recognition_url, params=params, headers=headers, data=image_data)\n",
    "    # response.raise_for_status()    \n",
    "    analysis = response.json()\n",
    "\n",
    "    if response.status_code != 200 or analysis == []:\n",
    "        tmp_df = pd.DataFrame([[i, np.nan]],index = [i],columns=['png_no', 'smile_score'])\n",
    "    else :\n",
    "        smile_score = analysis[0]['faceAttributes']['smile']\n",
    "        tmp_df = pd.DataFrame([[i, smile_score]], index = [i], columns=['png_no', 'smile_score'])\n",
    "        \n",
    "    smile_scores=smile_scores.append(tmp_df)\n",
    "    print(i)"
   ]
  },
  {
   "cell_type": "code",
   "execution_count": null,
   "metadata": {},
   "outputs": [],
   "source": [
    "smile_scores.to_csv('result_smile_score.csv')"
   ]
  },
  {
   "cell_type": "markdown",
   "metadata": {},
   "source": [
    "# smileスコアの度数分布表作成\n",
    "https://github.com/AtsushiSakai/PyCoolPlot"
   ]
  },
  {
   "cell_type": "code",
   "execution_count": 2,
   "metadata": {},
   "outputs": [
    {
     "data": {
      "image/png": "[encoded data removed]",
      "text/plain": [
       "<matplotlib.figure.Figure at 0x10b9d0c50>"
      ]
     },
     "metadata": {},
     "output_type": "display_data"
    }
   ],
   "source": [
    "import pandas as pd\n",
    "from pycoolplot import pycoolplot\n",
    "import matplotlib\n",
    "\n",
    "df = pd.read_csv('result_smile_score.csv')\n",
    "smile_score_round = round(df['smile_score'],1)\n",
    "smile_score_fq= smile_score_round.value_counts()\n",
    "smile_score_fq = smile_score_fq.sort_index()\n",
    "pycoolplot.horizontal_bar(smile_score_fq.index,smile_score_fq.values)\n",
    "pycoolplot.plt.show()"
   ]
  }
 ],
 "metadata": {
  "anaconda-cloud": {},
  "kernelspec": {
   "display_name": "Python [conda env:anaconda]",
   "language": "python",
   "name": "conda-env-anaconda-py"
  },
  "language_info": {
   "codemirror_mode": {
    "name": "ipython",
    "version": 3
   },
   "file_extension": ".py",
   "mimetype": "text/x-python",
   "name": "python",
   "nbconvert_exporter": "python",
   "pygments_lexer": "ipython3",
   "version": "3.6.6"
  }
 },
 "nbformat": 4,
 "nbformat_minor": 1
}
